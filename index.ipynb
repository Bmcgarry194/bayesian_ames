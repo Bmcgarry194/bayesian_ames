{
 "cells": [
  {
   "cell_type": "markdown",
   "metadata": {},
   "source": [
    "# Bayesian Hierarchical Modeling with PYMC3: The Ames Housing Dataset"
   ]
  },
  {
   "cell_type": "markdown",
   "metadata": {},
   "source": [
    "The purpose of this notebook is to try to put into practice some of the ideas in Richard McElrath's Statistical Rethinking. Specifically chapter *insert chapter here*, where he deals with hierarchical models. In addition I will be drawing heavily from [this blog post](https://twiecki.io/blog/2014/03/17/bayesian-glms-3/) which uses the radon dataset to showcase the key aspects of hierarchical linear regression as well as ways to visualize and evaluate the model"
   ]
  },
  {
   "cell_type": "markdown",
   "metadata": {},
   "source": [
    "## The Dataset\n",
    "\n",
    "The Ames Housing dataset can be best thought of as a modern update on the classic Boston Housing dataset. It includes quite a few more features with a mix of categorical and continuous variables with plenty of missing values.\n",
    "\n",
    "Its a great dataset for diving into hierarchical linear regression since the level of the neighborhood is clear way in which to pool our observations.\n",
    "\n",
    "A full list of the features and their descriptions can be found in ```data_description.txt```."
   ]
  },
  {
   "cell_type": "code",
   "execution_count": null,
   "metadata": {},
   "outputs": [],
   "source": [
    "import matplotlib.pyplot as plt\n",
    "import numpy as np\n",
    "import pandas as pd\n",
    "import pymc3 as pm\n",
    "\n",
    "from sklearn.preprocessing import StandardScaler\n",
    "from sklearn.linear_model import LinearRegression"
   ]
  },
  {
   "cell_type": "code",
   "execution_count": null,
   "metadata": {},
   "outputs": [],
   "source": [
    "# Create an index for each neighborhood\n",
    "\n",
    "neighborhood_idxs = dict(zip(ames['Neighborhood'].unique(), range(ames['Neighborhood'].nunique())))\n",
    "ames['Neighborhood_code'] = ames['Neighborhood'].map(neighborhood_idxs)"
   ]
  },
  {
   "cell_type": "code",
   "execution_count": null,
   "metadata": {},
   "outputs": [],
   "source": [
    "ames = pd.read_csv('train.csv', index_col=0)\n",
    "\n",
    "def log_and_normalize(col):\n",
    "    log_col = np.log(col)\n",
    "    return (log_col - log_col.mean()) / log_col.std()\n",
    "\n",
    "# ames[['SalePrice', 'LotArea']].apply(log_and_normalize)\n",
    "ames[['log_SalePrice', 'log_LotArea']] = np.log(ames[['SalePrice', 'LotArea']])"
   ]
  },
  {
   "cell_type": "markdown",
   "metadata": {},
   "source": [
    "There are 80 different features included in this dataset but as a first pass lets just stick to the basics and only look at neighborhood and LotArea."
   ]
  },
  {
   "cell_type": "markdown",
   "metadata": {},
   "source": [
    "The first model we will tackle is the simple pooled model. This is just taking all of our data regardless of neighborhood and creating a linear regression of the form: $$logSalePrice= intercept + \\beta_{i}*LotArea + \\epsilon$$"
   ]
  },
  {
   "cell_type": "code",
   "execution_count": null,
   "metadata": {},
   "outputs": [],
   "source": [
    "ames.groupby(['Neighborhood']).agg({'log_LotArea': 'mean', 'log_SalePrice': 'mean' }).sort_values(by='log_SalePrice', ascending=False)"
   ]
  },
  {
   "cell_type": "markdown",
   "metadata": {},
   "source": [
    "## Pooled Model\n",
    "\n",
    "Lets fit a simple linear model using sklearn to compare to the results we get from pymc3"
   ]
  },
  {
   "cell_type": "code",
   "execution_count": null,
   "metadata": {},
   "outputs": [],
   "source": [
    "linreg = LinearRegression()\n",
    "linreg.fit(ames[['log_LotArea']], ames['log_SalePrice'])\n",
    "\n",
    "fig, ax = plt.subplots(figsize=(12, 8))\n",
    "\n",
    "x = np.linspace(6, 13)\n",
    "ax.scatter(ames['log_LotArea'], ames['log_SalePrice'], alpha=.1)\n",
    "ax.plot(x, linreg.predict(x.reshape(-1, 1)))\n",
    "ax.set_title(f'Intercept: {linreg.} Beta: {linreg.coef_[0]:.2f} ')"
   ]
  },
  {
   "cell_type": "code",
   "execution_count": null,
   "metadata": {},
   "outputs": [],
   "source": [
    "with pm.Model() as model:\n",
    "    # Intercept prior\n",
    "    alpha = pm.Normal('Intercept', mu=0, sd=1)\n",
    "    # Slope prior\n",
    "    beta = pm.Normal('log_LotArea', mu=0, sd=1)\n",
    "\n",
    "    # Model error prior\n",
    "    sigma = pm.HalfCauchy('sigma', beta=1)\n",
    "\n",
    "    # Linear model\n",
    "    price = alpha + beta * ames['log_LotArea'].values\n",
    "\n",
    "    # Data likelihood\n",
    "    y_like = pm.Normal('y_like', mu=price, sd=sigma, observed=ames['log_SalePrice'].values)\n",
    "\n",
    "    # Inference button (TM)!\n",
    "    trace = pm.sample(draws=2000, progressbar=True, tune=1000)"
   ]
  },
  {
   "cell_type": "code",
   "execution_count": null,
   "metadata": {},
   "outputs": [],
   "source": [
    "pm.traceplot(trace);"
   ]
  },
  {
   "cell_type": "code",
   "execution_count": null,
   "metadata": {},
   "outputs": [],
   "source": [
    "fig, ax = plt.subplots(figsize=(12, 8))\n",
    "\n",
    "for _ in range(50):\n",
    "    sample = np.random.choice(trace)\n",
    "    x = np.linspace(6, 13)\n",
    "    y = sample['Intercept'] + sample['log_LotArea']*x\n",
    "\n",
    "    ax.plot(x, y, alpha=.1, color='orange')\n",
    "ax.scatter(ames['log_LotArea'], ames['log_SalePrice'], alpha=.1)\n",
    "ax.plot(x, linreg.predict(x.reshape(-1, 1)))"
   ]
  },
  {
   "cell_type": "markdown",
   "metadata": {},
   "source": [
    "## Individual Non-Pooled Models\n",
    "\n",
    "For each neighborhood we take all observations and construct and independent regression"
   ]
  },
  {
   "cell_type": "code",
   "execution_count": null,
   "metadata": {},
   "outputs": [],
   "source": [
    "neighborhoods = ames['Neighborhood'].unique()"
   ]
  },
  {
   "cell_type": "code",
   "execution_count": null,
   "metadata": {},
   "outputs": [],
   "source": [
    "traces = {}\n",
    "\n",
    "for nh in neighborhoods:\n",
    "    print(nh)\n",
    "    lot_area = ames.loc[ames['Neighborhood'] == nh, 'log_LotArea'].values\n",
    "    observed = ames.loc[ames['Neighborhood'] == nh, 'log_SalePrice'].values\n",
    "    \n",
    "    with pm.Model() as individual_model:\n",
    "        # Intercept prior\n",
    "        alpha = pm.Normal('Intercept', mu=0, sd=5)\n",
    "        \n",
    "        # Slope prior\n",
    "        beta = pm.Normal('log_LotArea', mu=0, sd=5)\n",
    "\n",
    "        # Model error prior\n",
    "        sigma = pm.HalfCauchy('sigma', beta=1)\n",
    "\n",
    "        # Linear model\n",
    "        price = alpha + beta * lot_area\n",
    "\n",
    "        # Data likelihood\n",
    "        y_like = pm.Normal('y_like', mu=price, sd=sigma, observed=observed)\n",
    "\n",
    "        # Inference button (TM)!\n",
    "        indiv_trace = pm.sample(draws=4000, progressbar=True, tune=1000)\n",
    "        traces[nh] = indiv_trace"
   ]
  },
  {
   "cell_type": "code",
   "execution_count": null,
   "metadata": {},
   "outputs": [],
   "source": [
    "pm.plot_trace(traces['ClearCr']);"
   ]
  },
  {
   "cell_type": "code",
   "execution_count": null,
   "metadata": {},
   "outputs": [],
   "source": [
    "fig, ax = plt.subplots(figsize=(12, 8))\n",
    "nh = 'ClearCr'\n",
    "\n",
    "for _ in range(100):\n",
    "    sample = np.random.choice(traces[nh])\n",
    "    x = np.linspace(6, 13)\n",
    "    y = sample['Intercept'] + sample['log_LotArea']*x\n",
    "\n",
    "    ax.plot(x, y, alpha=.1, color='orange')\n",
    "\n",
    "ax.scatter(ames.loc[ames['Neighborhood'] == nh, ['log_LotArea']], ames.loc[ames['Neighborhood'] == nh, ['log_SalePrice']], alpha=.5)\n",
    "ax.plot()"
   ]
  },
  {
   "cell_type": "code",
   "execution_count": null,
   "metadata": {},
   "outputs": [],
   "source": [
    "neighborhood_idx = ames['Neighborhood_code'].values\n",
    "\n",
    "with pm.Model() as hierarchical_model:\n",
    "    # Hyperpriors\n",
    "    mu_a = pm.Normal('mu_alpha', mu=0., sd=1)\n",
    "    sigma_a = pm.HalfCauchy('sigma_alpha', beta=1)\n",
    "    mu_b = pm.Normal('mu_beta', mu=0., sd=1)\n",
    "    sigma_b = pm.HalfCauchy('sigma_beta', beta=1)\n",
    "    \n",
    "    # Intercept for each county, distributed around group mean mu_a\n",
    "    a = pm.Normal('alpha', mu=mu_a, sd=sigma_a, shape=ames['Neighborhood'].nunique())\n",
    "    # Intercept for each county, distributed around group mean mu_a\n",
    "    b = pm.Normal('beta', mu=mu_b, sd=sigma_b, shape=ames['Neighborhood'].nunique())\n",
    "    \n",
    "    # Model error\n",
    "    eps = pm.HalfCauchy('eps', beta=1)\n",
    "    \n",
    "    # Expected value\n",
    "    price_est = a[neighborhood_idx] + b[neighborhood_idx] * ames['log_LotArea'].values\n",
    "    \n",
    "    # Data likelihood\n",
    "    y_like = pm.Normal('y_like', mu=price_est, sd=eps, observed=ames['log_SalePrice'].values)\n",
    "    \n",
    "    hierarchical_trace = pm.sample(draws=4000, progressbar=True, tune=1000)"
   ]
  },
  {
   "cell_type": "code",
   "execution_count": null,
   "metadata": {},
   "outputs": [],
   "source": [
    "hier_a = hierarchical_trace['alpha'].mean(axis=0)\n",
    "hier_b = hierarchical_trace['beta'].mean(axis=0)\n",
    "indv_a = [traces[c]['Intercept'].mean() for c in neighborhoods]\n",
    "indv_b = [traces[c]['log_LotArea'].mean() for c in neighborhoods]\n",
    "fig, ax = plt.subplots(figsize=(10, 10))\n",
    "\n",
    "ax.scatter(indv_a,indv_b, s=26, alpha=0.4, label = 'non-hierarchical')\n",
    "ax.scatter(hier_a,hier_b, c='red', s=26, alpha=0.4, label = 'hierarchical')\n",
    "\n",
    "for i_a, i_b, h_a, h_b in zip(indv_a, indv_b, hier_a, hier_b):\n",
    "    ax.arrow(i_a, i_b, h_a - i_a, h_b - i_b,\n",
    "             fc=\"k\", ec=\"k\", length_includes_head=True, alpha=0.1, head_width=.02)\n",
    "    \n",
    "ax.set_xlabel('Intercept')\n",
    "ax.set_ylabel('log_LotArea')\n",
    "ax.set_title('Hierarchical vs. Non-hierarchical Bayes')"
   ]
  },
  {
   "cell_type": "code",
   "execution_count": null,
   "metadata": {},
   "outputs": [],
   "source": [
    "pm.plot_trace(hierarchical_trace, compact=True);"
   ]
  },
  {
   "cell_type": "code",
   "execution_count": null,
   "metadata": {},
   "outputs": [],
   "source": [
    "pm.forestplot(hierarchical_trace);"
   ]
  }
 ],
 "metadata": {
  "kernelspec": {
   "display_name": "pymc3",
   "language": "python",
   "name": "myenv"
  },
  "language_info": {
   "codemirror_mode": {
    "name": "ipython",
    "version": 3
   },
   "file_extension": ".py",
   "mimetype": "text/x-python",
   "name": "python",
   "nbconvert_exporter": "python",
   "pygments_lexer": "ipython3",
   "version": "3.7.7"
  }
 },
 "nbformat": 4,
 "nbformat_minor": 4
}
